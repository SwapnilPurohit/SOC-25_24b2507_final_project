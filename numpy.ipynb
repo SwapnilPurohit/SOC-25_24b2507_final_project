{
  "nbformat": 4,
  "nbformat_minor": 0,
  "metadata": {
    "colab": {
      "provenance": []
    },
    "kernelspec": {
      "name": "python3",
      "display_name": "Python 3"
    },
    "language_info": {
      "name": "python"
    }
  },
  "cells": [
    {
      "cell_type": "code",
      "source": [
        "import numpy as np\n",
        "\n",
        "a = np.array([1,2,3], dtype='int32')\n",
        "print(a)"
      ],
      "metadata": {
        "colab": {
          "base_uri": "https://localhost:8080/"
        },
        "id": "SFWYZUVG2yVf",
        "outputId": "f9c1e0a6-be16-4e49-ed6f-d5e27adf085e"
      },
      "execution_count": 8,
      "outputs": [
        {
          "output_type": "stream",
          "name": "stdout",
          "text": [
            "[1 2 3]\n"
          ]
        }
      ]
    },
    {
      "cell_type": "code",
      "source": [
        "b = np.array([[9.0,8.0,7.0],[6.0,5.0,4.0]])\n",
        "print(b)"
      ],
      "metadata": {
        "colab": {
          "base_uri": "https://localhost:8080/"
        },
        "id": "TkvEg_3k21Ip",
        "outputId": "6d415bd0-94e9-4c45-cdb3-e0b53499f9e8"
      },
      "execution_count": 9,
      "outputs": [
        {
          "output_type": "stream",
          "name": "stdout",
          "text": [
            "[[9. 8. 7.]\n",
            " [6. 5. 4.]]\n"
          ]
        }
      ]
    },
    {
      "cell_type": "code",
      "source": [
        "print(a.ndim, b.shape, a.dtype, a.itemsize, a.nbytes, a.size)\n",
        "a = np.array([[1,2,3,4,5,6,7],[8,9,10,11,12,13,14]])\n",
        "print(a)"
      ],
      "metadata": {
        "colab": {
          "base_uri": "https://localhost:8080/"
        },
        "id": "9j3l1Uu924Nt",
        "outputId": "87456780-00f2-42c4-9605-d7b4b05a0a7d"
      },
      "execution_count": 10,
      "outputs": [
        {
          "output_type": "stream",
          "name": "stdout",
          "text": [
            "1 (2, 3) int32 4 12 3\n",
            "[[ 1  2  3  4  5  6  7]\n",
            " [ 8  9 10 11 12 13 14]]\n"
          ]
        }
      ]
    },
    {
      "cell_type": "code",
      "source": [
        "b = np.array([[[1,2],[3,4]],[[5,6],[7,8]]])\n",
        "print(b)\n",
        "print(np.zeros((2,3)))\n",
        "print(np.ones((4,2,2), dtype='int32'))\n",
        "print(np.full((2,2), 99))\n",
        "print(np.full_like(a, 4))\n",
        "print(np.random.rand(4,2))\n",
        "print(np.random.randint(-4,8, size=(3,3)))\n",
        "print(np.identity(5))"
      ],
      "metadata": {
        "colab": {
          "base_uri": "https://localhost:8080/"
        },
        "id": "JUk9FAXI4vrf",
        "outputId": "8d22acec-2561-4e35-c01c-ffbb8cda88f5"
      },
      "execution_count": 11,
      "outputs": [
        {
          "output_type": "stream",
          "name": "stdout",
          "text": [
            "[[[1 2]\n",
            "  [3 4]]\n",
            "\n",
            " [[5 6]\n",
            "  [7 8]]]\n",
            "[[0. 0. 0.]\n",
            " [0. 0. 0.]]\n",
            "[[[1 1]\n",
            "  [1 1]]\n",
            "\n",
            " [[1 1]\n",
            "  [1 1]]\n",
            "\n",
            " [[1 1]\n",
            "  [1 1]]\n",
            "\n",
            " [[1 1]\n",
            "  [1 1]]]\n",
            "[[99 99]\n",
            " [99 99]]\n",
            "[[4 4 4 4 4 4 4]\n",
            " [4 4 4 4 4 4 4]]\n",
            "[[0.54070799 0.10035751]\n",
            " [0.56723492 0.31078656]\n",
            " [0.3073264  0.74639682]\n",
            " [0.49000985 0.70086462]]\n",
            "[[ 0  1  6]\n",
            " [ 4 -1  7]\n",
            " [-3 -2  7]]\n",
            "[[1. 0. 0. 0. 0.]\n",
            " [0. 1. 0. 0. 0.]\n",
            " [0. 0. 1. 0. 0.]\n",
            " [0. 0. 0. 1. 0.]\n",
            " [0. 0. 0. 0. 1.]]\n"
          ]
        }
      ]
    },
    {
      "cell_type": "code",
      "source": [
        "arr = np.array([[1,2,3]])\n",
        "r1 = np.repeat(arr,3, axis=0)\n",
        "print(r1)"
      ],
      "metadata": {
        "colab": {
          "base_uri": "https://localhost:8080/"
        },
        "id": "LlPcJH1z40VY",
        "outputId": "bd57e8ba-d758-4d4c-e105-994e5e46da49"
      },
      "execution_count": 12,
      "outputs": [
        {
          "output_type": "stream",
          "name": "stdout",
          "text": [
            "[[1 2 3]\n",
            " [1 2 3]\n",
            " [1 2 3]]\n"
          ]
        }
      ]
    },
    {
      "cell_type": "code",
      "source": [
        "output = np.ones((5,5))\n",
        "print(output)\n",
        "z = np.zeros((3,3))\n",
        "z[1,1] = 9\n",
        "print(z)\n",
        "output[1:-1,1:-1] = z\n",
        "print(output)"
      ],
      "metadata": {
        "colab": {
          "base_uri": "https://localhost:8080/"
        },
        "id": "MSKOmVeC43BC",
        "outputId": "6b7ae636-5737-4615-e9f6-98e4950a675e"
      },
      "execution_count": 13,
      "outputs": [
        {
          "output_type": "stream",
          "name": "stdout",
          "text": [
            "[[1. 1. 1. 1. 1.]\n",
            " [1. 1. 1. 1. 1.]\n",
            " [1. 1. 1. 1. 1.]\n",
            " [1. 1. 1. 1. 1.]\n",
            " [1. 1. 1. 1. 1.]]\n",
            "[[0. 0. 0.]\n",
            " [0. 9. 0.]\n",
            " [0. 0. 0.]]\n",
            "[[1. 1. 1. 1. 1.]\n",
            " [1. 0. 0. 0. 1.]\n",
            " [1. 0. 9. 0. 1.]\n",
            " [1. 0. 0. 0. 1.]\n",
            " [1. 1. 1. 1. 1.]]\n"
          ]
        }
      ]
    },
    {
      "cell_type": "code",
      "source": [
        "a = np.array([1,2,3])\n",
        "b = a.copy()\n",
        "b[0] = 100\n",
        "print(a)\n",
        "print(b)\n",
        "a = np.array([1,2,3,4])\n",
        "print(a)"
      ],
      "metadata": {
        "colab": {
          "base_uri": "https://localhost:8080/"
        },
        "id": "-SlR35Jz46wn",
        "outputId": "1ed393d3-082f-44b3-d4ff-c7949afecf10"
      },
      "execution_count": 14,
      "outputs": [
        {
          "output_type": "stream",
          "name": "stdout",
          "text": [
            "[1 2 3]\n",
            "[100   2   3]\n",
            "[1 2 3 4]\n"
          ]
        }
      ]
    },
    {
      "cell_type": "code",
      "source": [
        "b = np.array([1,0,1,0])\n",
        "\n",
        "np.cos(a)"
      ],
      "metadata": {
        "colab": {
          "base_uri": "https://localhost:8080/"
        },
        "id": "pSKWFQnj5BUA",
        "outputId": "0adf6bf8-061a-414b-c231-2550bd91486e"
      },
      "execution_count": 15,
      "outputs": [
        {
          "output_type": "execute_result",
          "data": {
            "text/plain": [
              "array([ 0.54030231, -0.41614684, -0.9899925 , -0.65364362])"
            ]
          },
          "metadata": {},
          "execution_count": 15
        }
      ]
    },
    {
      "cell_type": "code",
      "source": [
        "a = np.ones((2,3))\n",
        "print(a)\n",
        "b = np.full((3,2), 2)\n",
        "print(b)\n",
        "np.matmul(a,b)"
      ],
      "metadata": {
        "colab": {
          "base_uri": "https://localhost:8080/"
        },
        "id": "bf84CE_h5HEw",
        "outputId": "271e4082-e406-40ab-ed49-a7eda545c499"
      },
      "execution_count": 16,
      "outputs": [
        {
          "output_type": "stream",
          "name": "stdout",
          "text": [
            "[[1. 1. 1.]\n",
            " [1. 1. 1.]]\n",
            "[[2 2]\n",
            " [2 2]\n",
            " [2 2]]\n"
          ]
        },
        {
          "output_type": "execute_result",
          "data": {
            "text/plain": [
              "array([[6., 6.],\n",
              "       [6., 6.]])"
            ]
          },
          "metadata": {},
          "execution_count": 16
        }
      ]
    },
    {
      "cell_type": "code",
      "source": [
        "c = np.identity(3)\n",
        "np.linalg.det(c)\n",
        "\n",
        "stats = np.array([[1,2,3],[4,5,6]])\n",
        "stats"
      ],
      "metadata": {
        "colab": {
          "base_uri": "https://localhost:8080/"
        },
        "id": "Y_4lDOEj5KQg",
        "outputId": "7813464b-e8ef-4cce-8ef7-37134d17910a"
      },
      "execution_count": 17,
      "outputs": [
        {
          "output_type": "execute_result",
          "data": {
            "text/plain": [
              "array([[1, 2, 3],\n",
              "       [4, 5, 6]])"
            ]
          },
          "metadata": {},
          "execution_count": 17
        }
      ]
    },
    {
      "cell_type": "code",
      "source": [
        "np.min(stats)\n",
        "\n",
        "np.max(stats, axis=1)\n",
        "\n",
        "np.sum(stats, axis=0)"
      ],
      "metadata": {
        "colab": {
          "base_uri": "https://localhost:8080/"
        },
        "id": "LNhPO1zO5NfR",
        "outputId": "a21428a5-ac13-4c9c-bc42-b58e48cd45bd"
      },
      "execution_count": 18,
      "outputs": [
        {
          "output_type": "execute_result",
          "data": {
            "text/plain": [
              "array([5, 7, 9])"
            ]
          },
          "metadata": {},
          "execution_count": 18
        }
      ]
    },
    {
      "cell_type": "code",
      "execution_count": 19,
      "metadata": {
        "colab": {
          "base_uri": "https://localhost:8080/"
        },
        "id": "hqAW0zc904hZ",
        "outputId": "e683f290-a7ba-4066-f63f-b27ef1ec442a"
      },
      "outputs": [
        {
          "output_type": "stream",
          "name": "stdout",
          "text": [
            "[[1 2 3 4]\n",
            " [5 6 7 8]]\n",
            "[[1 2 3 4]\n",
            " [5 6 7 8]]\n"
          ]
        }
      ],
      "source": [
        "before = np.array([[1,2,3,4],[5,6,7,8]])\n",
        "print(before)\n",
        "after = before.reshape((2,4))\n",
        "print(after)"
      ]
    }
  ]
}