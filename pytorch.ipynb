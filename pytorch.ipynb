{
  "nbformat": 4,
  "nbformat_minor": 0,
  "metadata": {
    "colab": {
      "provenance": []
    },
    "kernelspec": {
      "name": "python3",
      "display_name": "Python 3"
    },
    "language_info": {
      "name": "python"
    }
  },
  "cells": [
    {
      "cell_type": "code",
      "execution_count": 1,
      "metadata": {
        "id": "4-uls4Aj_Jxb",
        "colab": {
          "base_uri": "https://localhost:8080/"
        },
        "outputId": "c617288c-0c1f-4047-bcd5-c0507177c0b8"
      },
      "outputs": [
        {
          "output_type": "stream",
          "name": "stdout",
          "text": [
            "empty 1 tensor([1.9829e+30])\n",
            "empty 3 tensor([6.0594e-25, 0.0000e+00, 5.4535e+26])\n",
            "empty 2,3 tensor([[6.9308e-25, 0.0000e+00, 6.9314e-25],\n",
            "        [0.0000e+00, 1.1210e-43, 0.0000e+00]])\n",
            "empty 2,3,3 tensor([[[ 5.4535e+26,  4.3627e-41,  5.4535e+26],\n",
            "         [ 4.3627e-41,  4.4842e-44,  0.0000e+00],\n",
            "         [ 1.1210e-43,  0.0000e+00,  6.9779e-25]],\n",
            "\n",
            "        [[ 0.0000e+00,  5.6767e-41,  5.9187e-39],\n",
            "         [-2.2775e-38,  9.4728e-38,  2.2044e-38],\n",
            "         [-1.7094e+29,  7.1745e-33, -5.9058e-34]]])\n",
            "empty 2,3,3,4 tensor([[[[ 5.4537e+26,  4.3627e-41,  5.4537e+26,  4.3627e-41],\n",
            "          [ 4.4842e-44,  1.1210e-43,  6.9779e-25,  5.6767e-41],\n",
            "          [ 5.9187e-39, -2.2775e-38,  9.4728e-38,  2.2044e-38]],\n",
            "\n",
            "         [[-1.7094e+29,  7.1745e-33, -5.9058e-34,  0.0000e+00],\n",
            "          [ 1.1210e-43,  0.0000e+00,  1.5695e-43,  0.0000e+00],\n",
            "          [ 6.0828e-25,  0.0000e+00,  0.0000e+00,  1.4013e-45]],\n",
            "\n",
            "         [[ 6.9304e-25,  0.0000e+00,  1.9546e+10,  4.3627e-41],\n",
            "          [ 6.9304e-25,  0.0000e+00,  9.1477e-41,  0.0000e+00],\n",
            "          [ 8.4078e-44,  0.0000e+00,  3.5873e-43,  0.0000e+00]]],\n",
            "\n",
            "\n",
            "        [[[ 2.1199e+10,  4.3627e-41,  0.0000e+00,  0.0000e+00],\n",
            "          [ 0.0000e+00,  0.0000e+00,  0.0000e+00,  0.0000e+00],\n",
            "          [ 0.0000e+00,  1.4349e-42,  4.7224e-43,  0.0000e+00]],\n",
            "\n",
            "         [[ 6.9298e-25,  0.0000e+00,  6.1287e-25,  0.0000e+00],\n",
            "          [ 4.4842e-44,  1.1210e-43,  6.9779e-25,  5.6767e-41],\n",
            "          [ 5.9187e-39,  2.2775e-38,  9.4728e-38,  2.2044e-38]],\n",
            "\n",
            "         [[ 1.7094e+29,  7.1745e-33,  5.9058e-34,  4.3627e-41],\n",
            "          [ 1.1210e-43,  0.0000e+00,  1.5695e-43,  0.0000e+00],\n",
            "          [ 6.1021e-25,  0.0000e+00,  0.0000e+00,  1.4013e-45]]]])\n",
            "rand 2,3 tensor([[0.1213, 0.3518, 0.7652],\n",
            "        [0.4769, 0.9965, 0.3017]])\n",
            "zeros 2,3 tensor([[0., 0., 0.],\n",
            "        [0., 0., 0.]])\n",
            "ones 2,3 tensor([[1., 1., 1.],\n",
            "        [1., 1., 1.]])\n"
          ]
        }
      ],
      "source": [
        "import torch\n",
        "\n",
        "x = torch.empty(1) #scalar\n",
        "print(\"empty 1\", x)\n",
        "x = torch.empty(3) #vector\n",
        "print(\"empty 3\", x)\n",
        "x = torch.empty(2,3) #matrix\n",
        "print(\"empty 2,3\", x)\n",
        "x = torch.empty(2,3,3) #tensor, 3d\n",
        "print(\"empty 2,3,3\", x)\n",
        "x = torch.empty(2,3,3,4) #tensor, 4d\n",
        "print(\"empty 2,3,3,4\", x)\n",
        "\n",
        "x = torch.rand(2,3)\n",
        "print(\"rand 2,3\", x)\n",
        "x = torch.zeros(2,3)\n",
        "print(\"zeros 2,3\", x)\n",
        "x = torch.ones(2,3)\n",
        "print(\"ones 2,3\", x)"
      ]
    },
    {
      "cell_type": "code",
      "source": [
        "print(\"size\" , x.size())\n",
        "print(\"shape\" , x.shape[0])\n",
        "print(x.dtype)\n",
        "x = torch.rand(2,3, dtype=torch.float32)\n",
        "print(x.dtype)"
      ],
      "metadata": {
        "colab": {
          "base_uri": "https://localhost:8080/"
        },
        "id": "yMeSL4R75L3W",
        "outputId": "43107ed5-993f-4b84-cc16-859c123f9644"
      },
      "execution_count": 2,
      "outputs": [
        {
          "output_type": "stream",
          "name": "stdout",
          "text": [
            "size torch.Size([2, 3])\n",
            "shape 2\n",
            "torch.float32\n",
            "torch.float32\n"
          ]
        }
      ]
    },
    {
      "cell_type": "code",
      "source": [
        "x = torch.tensor([0,1,4])\n",
        "print(x)\n",
        "x = torch.tensor([0,1,4.2], requires_grad=True)\n",
        "#this will tell pytorch that we need to calculate the gradient of this tensor in future\n",
        "#i.e., this is a variable in our model that we have to optimize\n",
        "print(x)"
      ],
      "metadata": {
        "colab": {
          "base_uri": "https://localhost:8080/"
        },
        "id": "gRefkk1b6pt3",
        "outputId": "24639b21-0568-4820-e75c-3195888c64c5"
      },
      "execution_count": 3,
      "outputs": [
        {
          "output_type": "stream",
          "name": "stdout",
          "text": [
            "tensor([0, 1, 4])\n",
            "tensor([0.0000, 1.0000, 4.2000], requires_grad=True)\n"
          ]
        }
      ]
    },
    {
      "cell_type": "code",
      "source": [
        "x = torch.ones(2,2)\n",
        "y = torch.rand(2,2)\n",
        "z = x + y\n",
        "print(x)\n",
        "print(y)\n",
        "print(z)\n",
        "z = x - y\n",
        "print(z)\n",
        "w = torch.rand(2,2)\n",
        "print(w)\n",
        "w.add_(x) #in place addition\n",
        "print(w)\n",
        "z = x * y\n",
        "print(z)\n",
        "z = x / y\n",
        "print(z)"
      ],
      "metadata": {
        "colab": {
          "base_uri": "https://localhost:8080/"
        },
        "id": "3vnIX7PL_Euh",
        "outputId": "5ad8b2ec-3901-454c-e013-c6cdf72c1e31"
      },
      "execution_count": 4,
      "outputs": [
        {
          "output_type": "stream",
          "name": "stdout",
          "text": [
            "tensor([[1., 1.],\n",
            "        [1., 1.]])\n",
            "tensor([[0.5671, 0.5367],\n",
            "        [0.5465, 0.3848]])\n",
            "tensor([[1.5671, 1.5367],\n",
            "        [1.5465, 1.3848]])\n",
            "tensor([[0.4329, 0.4633],\n",
            "        [0.4535, 0.6152]])\n",
            "tensor([[0.2715, 0.5736],\n",
            "        [0.4423, 0.5302]])\n",
            "tensor([[1.2715, 1.5736],\n",
            "        [1.4423, 1.5302]])\n",
            "tensor([[0.5671, 0.5367],\n",
            "        [0.5465, 0.3848]])\n",
            "tensor([[1.7634, 1.8633],\n",
            "        [1.8297, 2.5990]])\n"
          ]
        }
      ]
    },
    {
      "cell_type": "code",
      "source": [
        "x = torch.rand(4,3)\n",
        "print(x)\n",
        "print (\"x[:, 0] : \", x[:, 0]) #all rows, 0th column\n",
        "print (\"x[0, :] : \", x[0, :]) #0th rows, all column\n",
        "print (\"x[1, 1] : \", x[1, 1]) #element at 1,1\n",
        "\n",
        "print (\"x[1, 1].item() : \", x[1, 1].item()) #get the value as a python number"
      ],
      "metadata": {
        "colab": {
          "base_uri": "https://localhost:8080/"
        },
        "id": "OVeNu8PDEhZS",
        "outputId": "e9418075-5f2f-4ef1-831b-7379a604e42d"
      },
      "execution_count": 5,
      "outputs": [
        {
          "output_type": "stream",
          "name": "stdout",
          "text": [
            "tensor([[0.8290, 0.3606, 0.9405],\n",
            "        [0.5382, 0.1368, 0.5170],\n",
            "        [0.1167, 0.4514, 0.1606],\n",
            "        [0.6856, 0.3855, 0.1614]])\n",
            "x[:, 0] :  tensor([0.8290, 0.5382, 0.1167, 0.6856])\n",
            "x[0, :] :  tensor([0.8290, 0.3606, 0.9405])\n",
            "x[1, 1] :  tensor(0.1368)\n",
            "x[1, 1].item() :  0.13682878017425537\n"
          ]
        }
      ]
    },
    {
      "cell_type": "code",
      "source": [
        "x = torch.rand(4,4)\n",
        "y = x.view(16)\n",
        "print(x)\n",
        "print(y)\n",
        "y = x.view(-1, 8) #the size -1 is inferred from other dimensions\n",
        "print(y)"
      ],
      "metadata": {
        "colab": {
          "base_uri": "https://localhost:8080/"
        },
        "id": "pSi2l3NnQD6x",
        "outputId": "b9ce55e5-5e25-47dc-dbd7-a56a1342dba9"
      },
      "execution_count": 6,
      "outputs": [
        {
          "output_type": "stream",
          "name": "stdout",
          "text": [
            "tensor([[0.7995, 0.6529, 0.2874, 0.3496],\n",
            "        [0.7071, 0.4706, 0.7833, 0.6622],\n",
            "        [0.9038, 0.3628, 0.7730, 0.5631],\n",
            "        [0.8077, 0.8147, 0.8318, 0.6296]])\n",
            "tensor([0.7995, 0.6529, 0.2874, 0.3496, 0.7071, 0.4706, 0.7833, 0.6622, 0.9038,\n",
            "        0.3628, 0.7730, 0.5631, 0.8077, 0.8147, 0.8318, 0.6296])\n",
            "tensor([[0.7995, 0.6529, 0.2874, 0.3496, 0.7071, 0.4706, 0.7833, 0.6622],\n",
            "        [0.9038, 0.3628, 0.7730, 0.5631, 0.8077, 0.8147, 0.8318, 0.6296]])\n"
          ]
        }
      ]
    },
    {
      "cell_type": "code",
      "source": [
        "a = torch.ones(4)\n",
        "print(a)\n",
        "\n",
        "b = a.numpy() #converting to numpy array\n",
        "print(b)\n",
        "print(type(b))\n",
        "\n",
        "a.add_(1)\n",
        "print(a)\n",
        "print(b) #changing one changes the other too"
      ],
      "metadata": {
        "colab": {
          "base_uri": "https://localhost:8080/"
        },
        "id": "toyJAu_Z0dNf",
        "outputId": "035652c5-8c63-4d79-fcee-5adbcaa0dd32"
      },
      "execution_count": 7,
      "outputs": [
        {
          "output_type": "stream",
          "name": "stdout",
          "text": [
            "tensor([1., 1., 1., 1.])\n",
            "[1. 1. 1. 1.]\n",
            "<class 'numpy.ndarray'>\n",
            "tensor([2., 2., 2., 2.])\n",
            "[2. 2. 2. 2.]\n"
          ]
        }
      ]
    },
    {
      "cell_type": "code",
      "source": [
        "import numpy as np\n",
        "\n",
        "a = np.ones(4)\n",
        "b = torch.from_numpy(a) #share same memory as a, changing one will also change the other\n",
        "c = torch.tensor(a) #real copy of a, don't affect each other\n",
        "\n",
        "print(a)\n",
        "print(b)\n",
        "print(c)\n",
        "a += 1\n",
        "print(b)\n",
        "print(c)"
      ],
      "metadata": {
        "colab": {
          "base_uri": "https://localhost:8080/"
        },
        "id": "5u7sl9EJ1eOb",
        "outputId": "1cbd05ff-67da-4f71-acd5-4ebbf7d600a0"
      },
      "execution_count": 8,
      "outputs": [
        {
          "output_type": "stream",
          "name": "stdout",
          "text": [
            "[1. 1. 1. 1.]\n",
            "tensor([1., 1., 1., 1.], dtype=torch.float64)\n",
            "tensor([1., 1., 1., 1.], dtype=torch.float64)\n",
            "tensor([2., 2., 2., 2.], dtype=torch.float64)\n",
            "tensor([1., 1., 1., 1.], dtype=torch.float64)\n"
          ]
        }
      ]
    },
    {
      "cell_type": "code",
      "source": [
        "x = torch.rand(2,3, requires_grad=True)\n",
        "y = x + 2\n",
        "z = 4 * y * y\n",
        "print(x)\n",
        "print(y)\n",
        "print(y.grad_fn)\n",
        "print(z)\n",
        "z = z.mean()\n",
        "print(z)"
      ],
      "metadata": {
        "colab": {
          "base_uri": "https://localhost:8080/"
        },
        "id": "QS3DOMGS4aOT",
        "outputId": "3b7815c0-bab9-4d14-b5c0-9d2373a8da23"
      },
      "execution_count": 9,
      "outputs": [
        {
          "output_type": "stream",
          "name": "stdout",
          "text": [
            "tensor([[0.4469, 0.3173, 0.4138],\n",
            "        [0.5967, 0.9343, 0.3846]], requires_grad=True)\n",
            "tensor([[2.4469, 2.3173, 2.4138],\n",
            "        [2.5967, 2.9343, 2.3846]], grad_fn=<AddBackward0>)\n",
            "<AddBackward0 object at 0x799d52059c30>\n",
            "tensor([[23.9502, 21.4802, 23.3055],\n",
            "        [26.9704, 34.4407, 22.7461]], grad_fn=<MulBackward0>)\n",
            "tensor(25.4822, grad_fn=<MeanBackward0>)\n"
          ]
        }
      ]
    },
    {
      "cell_type": "code",
      "source": [
        "print(x.grad)\n",
        "z.backward()\n",
        "print(x.grad)\n",
        "print(y.grad)"
      ],
      "metadata": {
        "colab": {
          "base_uri": "https://localhost:8080/"
        },
        "id": "UVzY6OVAAHU9",
        "outputId": "82bac817-662e-49fb-a456-fe071ca79195"
      },
      "execution_count": 10,
      "outputs": [
        {
          "output_type": "stream",
          "name": "stdout",
          "text": [
            "None\n",
            "tensor([[3.2626, 3.0898, 3.2184],\n",
            "        [3.4622, 3.9124, 3.1795]])\n",
            "None\n"
          ]
        },
        {
          "output_type": "stream",
          "name": "stderr",
          "text": [
            "/tmp/ipython-input-3035338691.py:4: UserWarning: The .grad attribute of a Tensor that is not a leaf Tensor is being accessed. Its .grad attribute won't be populated during autograd.backward(). If you indeed want the .grad field to be populated for a non-leaf Tensor, use .retain_grad() on the non-leaf Tensor. If you access the non-leaf Tensor by mistake, make sure you access the leaf Tensor instead. See github.com/pytorch/pytorch/pull/30531 for more informations. (Triggered internally at /pytorch/build/aten/src/ATen/core/TensorBody.h:489.)\n",
            "  print(y.grad)\n"
          ]
        }
      ]
    },
    {
      "cell_type": "code",
      "source": [
        "import torch\n",
        "\n",
        "X = torch.tensor([1, 2, 3, 4, 5, 6, 7, 8, 9, 10], dtype = torch.float32)\n",
        "Y = torch.tensor([2, 4, 6, 8, 10, 12, 14, 16, 18, 20], dtype = torch.float32)\n",
        "\n",
        "w = torch.tensor(0.0, dtype=torch.float32, requires_grad=True)\n",
        "\n",
        "def forward(x):\n",
        "    return w*x\n",
        "\n",
        "def loss(y, y_pred):\n",
        "    return ((y_pred - y)**2).mean()\n",
        "\n",
        "X_test = 5.0\n",
        "\n",
        "print(f'Prediction before training: f({X_test}) = {forward(X_test).item():.3f}')"
      ],
      "metadata": {
        "colab": {
          "base_uri": "https://localhost:8080/"
        },
        "id": "1gVvVNGKpz3s",
        "outputId": "039ec618-cc2b-470e-fe12-fb070491c52d"
      },
      "execution_count": 11,
      "outputs": [
        {
          "output_type": "stream",
          "name": "stdout",
          "text": [
            "Prediction before training: f(5.0) = 0.000\n"
          ]
        }
      ]
    },
    {
      "cell_type": "code",
      "source": [
        "learning_rate = 0.01\n",
        "n_epochs = 100\n",
        "\n",
        "for epoch in range(n_epochs):\n",
        "    y_pred = forward(X)\n",
        "    l = loss(Y, y_pred)\n",
        "\n",
        "    l.backward()\n",
        "\n",
        "    with torch.no_grad():\n",
        "      w -= w.grad * learning_rate\n",
        "\n",
        "    w.grad.zero_()\n",
        "\n",
        "\n",
        "    print(f'epoch {epoch+1}, w = {w.item():.3f}, loss = {l.item():.3f}')\n",
        "    if l.item() == 0:\n",
        "      break\n",
        "\n",
        "print(f'Prediction after training: f({X_test}) = {forward(X_test).item():.3f}')"
      ],
      "metadata": {
        "colab": {
          "base_uri": "https://localhost:8080/"
        },
        "id": "t5TQd5NRvNsX",
        "outputId": "80337bb3-053c-495e-8da1-186f04d8748a"
      },
      "execution_count": 12,
      "outputs": [
        {
          "output_type": "stream",
          "name": "stdout",
          "text": [
            "epoch 1, w = 1.540, loss = 154.000\n",
            "epoch 2, w = 1.894, loss = 8.147\n",
            "epoch 3, w = 1.976, loss = 0.431\n",
            "epoch 4, w = 1.994, loss = 0.023\n",
            "epoch 5, w = 1.999, loss = 0.001\n",
            "epoch 6, w = 2.000, loss = 0.000\n",
            "epoch 7, w = 2.000, loss = 0.000\n",
            "epoch 8, w = 2.000, loss = 0.000\n",
            "epoch 9, w = 2.000, loss = 0.000\n",
            "epoch 10, w = 2.000, loss = 0.000\n",
            "epoch 11, w = 2.000, loss = 0.000\n",
            "epoch 12, w = 2.000, loss = 0.000\n",
            "epoch 13, w = 2.000, loss = 0.000\n",
            "epoch 14, w = 2.000, loss = 0.000\n",
            "Prediction after training: f(5.0) = 10.000\n"
          ]
        }
      ]
    },
    {
      "cell_type": "code",
      "source": [
        "import torch\n",
        "import torch.nn as nn\n",
        "\n",
        "X = torch.tensor([[1], [2], [3], [4], [5], [6], [7], [8]], dtype=torch.float32)\n",
        "Y = torch.tensor([[2], [4], [6], [8], [10], [12], [14], [16]], dtype=torch.float32)\n",
        "\n",
        "n_samples, n_features = X.shape\n",
        "print(f'n_samples = {n_samples}, n_features = {n_features}')\n",
        "\n",
        "X_test = torch.tensor([5], dtype=torch.float32)"
      ],
      "metadata": {
        "id": "tl3io-7_ASmY",
        "colab": {
          "base_uri": "https://localhost:8080/"
        },
        "outputId": "e20d2a32-fb4e-449d-b310-885941ffed91"
      },
      "execution_count": 13,
      "outputs": [
        {
          "output_type": "stream",
          "name": "stdout",
          "text": [
            "n_samples = 8, n_features = 1\n"
          ]
        }
      ]
    },
    {
      "cell_type": "code",
      "source": [
        "class LinearRegression(nn.Module):\n",
        "    def __init__(self, input_dim, output_dim):\n",
        "        super(LinearRegression, self).__init__()\n",
        "        self.lin = nn.Linear(input_dim, output_dim)\n",
        "\n",
        "    def forward(self, x):\n",
        "        return self.lin(x)\n",
        "\n",
        "\n",
        "input_size, output_size = n_features, n_features\n",
        "\n",
        "model = LinearRegression(input_size, output_size)\n",
        "\n",
        "print(f'Prediction before training: f({X_test.item()}) = {model(X_test).item():.3f}')\n",
        "\n",
        "\n",
        "learning_rate = 0.01\n",
        "n_epochs = 100\n",
        "\n",
        "loss = nn.MSELoss()\n",
        "optimizer = torch.optim.SGD(model.parameters(), lr=learning_rate)\n",
        "\n",
        "\n",
        "for epoch in range(n_epochs):\n",
        "\n",
        "    y_predicted = model(X)\n",
        "    l = loss(Y, y_predicted)\n",
        "    l.backward()\n",
        "    optimizer.step()\n",
        "    optimizer.zero_grad()\n",
        "\n",
        "    if (epoch+1) % 10 == 0:\n",
        "        w, b = model.parameters()\n",
        "        print('epoch ', epoch+1, ': w = ', w[0][0].item(), ' loss = ', l.item())\n",
        "\n",
        "print(f'Prediction after training: f({X_test.item()}) = {model(X_test).item():.3f}')"
      ],
      "metadata": {
        "id": "pm75cwoRAdKr",
        "colab": {
          "base_uri": "https://localhost:8080/"
        },
        "outputId": "7b4bc842-7360-4454-bf5c-8c7b25c06c5f"
      },
      "execution_count": 14,
      "outputs": [
        {
          "output_type": "stream",
          "name": "stdout",
          "text": [
            "Prediction before training: f(5.0) = 0.418\n",
            "epoch  10 : w =  2.0228426456451416  loss =  0.0038833452854305506\n",
            "epoch  20 : w =  2.0229623317718506  loss =  0.003460042178630829\n",
            "epoch  30 : w =  2.0220625400543213  loss =  0.0031940045300871134\n",
            "epoch  40 : w =  2.0211973190307617  loss =  0.002948432695120573\n",
            "epoch  50 : w =  2.0203661918640137  loss =  0.0027217278257012367\n",
            "epoch  60 : w =  2.0195674896240234  loss =  0.002512443345040083\n",
            "epoch  70 : w =  2.0188002586364746  loss =  0.0023192758671939373\n",
            "epoch  80 : w =  2.0180630683898926  loss =  0.0021409366745501757\n",
            "epoch  90 : w =  2.017354726791382  loss =  0.0019763209857046604\n",
            "epoch  100 : w =  2.016674041748047  loss =  0.0018243816448375583\n",
            "Prediction after training: f(5.0) = 9.990\n"
          ]
        }
      ]
    },
    {
      "cell_type": "code",
      "source": [
        "import torch\n",
        "import torch.nn as nn\n",
        "import torchvision\n",
        "import torchvision.transforms as transforms\n",
        "import matplotlib.pyplot as plt\n",
        "\n",
        "device = torch.device('cuda' if torch.cuda.is_available() else 'cpu')\n",
        "\n",
        "input_size = 784\n",
        "hidden_size = 500\n",
        "num_classes = 10\n",
        "num_epochs = 2\n",
        "batch_size = 100\n",
        "learning_rate = 0.001\n",
        "\n",
        "\n",
        "train_dataset = torchvision.datasets.MNIST(root='./data',\n",
        "                                           train=True,\n",
        "                                           transform=transforms.ToTensor(),\n",
        "                                           download=True)\n",
        "\n",
        "test_dataset = torchvision.datasets.MNIST(root='./data',\n",
        "                                          train=False,\n",
        "                                          transform=transforms.ToTensor())\n",
        "\n",
        "train_loader = torch.utils.data.DataLoader(dataset=train_dataset,\n",
        "                                           batch_size=batch_size,\n",
        "                                           shuffle=True)\n",
        "\n",
        "test_loader = torch.utils.data.DataLoader(dataset=test_dataset,\n",
        "                                          batch_size=batch_size,\n",
        "                                          shuffle=False)\n",
        "\n",
        "examples = iter(test_loader)\n",
        "example_data, example_targets = examples.__next__()\n",
        "\n",
        "for i in range(6):\n",
        "    plt.subplot(2,3,i+1)\n",
        "    plt.imshow(example_data[i][0], cmap='gray')\n",
        "plt.show()"
      ],
      "metadata": {
        "id": "EMluZGraA9E5",
        "colab": {
          "base_uri": "https://localhost:8080/",
          "height": 411
        },
        "outputId": "7d3ad07c-517a-48a7-d026-c03d21051918"
      },
      "execution_count": 18,
      "outputs": [
        {
          "output_type": "display_data",
          "data": {
            "text/plain": [
              "<Figure size 640x480 with 6 Axes>"
            ],
            "image/png": "[encoded data removed]"
          },
          "metadata": {}
        }
      ]
    }
  ]
}