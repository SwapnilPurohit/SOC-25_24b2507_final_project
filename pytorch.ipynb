{
  "nbformat": 4,
  "nbformat_minor": 0,
  "metadata": {
    "colab": {
      "provenance": []
    },
    "kernelspec": {
      "name": "python3",
      "display_name": "Python 3"
    },
    "language_info": {
      "name": "python"
    }
  },
  "cells": [
    {
      "cell_type": "code",
      "execution_count": null,
      "metadata": {
        "id": "4-uls4Aj_Jxb",
        "colab": {
          "base_uri": "https://localhost:8080/"
        },
        "collapsed": true,
        "outputId": "9591b6aa-4e25-4e27-f885-0686b24b10c6"
      },
      "outputs": [
        {
          "output_type": "stream",
          "name": "stdout",
          "text": [
            "empty 1 tensor([-3.2432e+25])\n",
            "empty 3 tensor([ 2.4916e-14,  0.0000e+00, -5.7711e+21])\n",
            "empty 2,3 tensor([[-5.7712e+21,  4.5176e-41, -5.7712e+21],\n",
            "        [ 4.5176e-41,  4.4842e-44,  0.0000e+00]])\n",
            "empty 2,3,3 tensor([[[ 0.0000e+00,  0.0000e+00,  2.7915e-14],\n",
            "         [ 0.0000e+00,  3.4388e-15,  0.0000e+00],\n",
            "         [-3.6059e+25,  4.5175e-41,  1.4013e-45]],\n",
            "\n",
            "        [[ 0.0000e+00,  7.0065e-45,  0.0000e+00],\n",
            "         [ 0.0000e+00,  0.0000e+00,  0.0000e+00],\n",
            "         [ 0.0000e+00,  0.0000e+00,  0.0000e+00]]])\n",
            "empty 2,3,3,4 tensor([[[[ 2.5074e-14,  0.0000e+00,  2.7909e-14,  0.0000e+00],\n",
            "          [ 0.0000e+00,  0.0000e+00,  0.0000e+00,  0.0000e+00],\n",
            "          [ 0.0000e+00,  0.0000e+00,  0.0000e+00,  0.0000e+00]],\n",
            "\n",
            "         [[ 1.5695e-43,  0.0000e+00,  2.6905e-43,  0.0000e+00],\n",
            "          [-1.9433e+05,  4.5176e-41,  0.0000e+00,  1.4013e-45],\n",
            "          [ 2.7920e-14,  0.0000e+00,  0.0000e+00,  0.0000e+00]],\n",
            "\n",
            "         [[ 0.0000e+00,  0.0000e+00,  2.5156e-14,  0.0000e+00],\n",
            "          [ 3.4388e-15,  0.0000e+00, -3.6061e+25,  4.5175e-41],\n",
            "          [ 0.0000e+00,  0.0000e+00,  0.0000e+00,  0.0000e+00]]],\n",
            "\n",
            "\n",
            "        [[[ 0.0000e+00,  0.0000e+00,  0.0000e+00,  0.0000e+00],\n",
            "          [ 0.0000e+00,  0.0000e+00,  0.0000e+00,  0.0000e+00],\n",
            "          [ 1.4013e-45,  0.0000e+00,  0.0000e+00,  0.0000e+00]],\n",
            "\n",
            "         [[ 0.0000e+00,  0.0000e+00,  0.0000e+00,  0.0000e+00],\n",
            "          [ 0.0000e+00,  0.0000e+00,  0.0000e+00,  0.0000e+00],\n",
            "          [ 1.4013e-45,  0.0000e+00, -1.7014e+38,  1.1515e-40]],\n",
            "\n",
            "         [[ 4.2599e-43,  0.0000e+00,  2.6905e-43,  0.0000e+00],\n",
            "          [-1.9433e+05,  4.5176e-41,  0.0000e+00,  1.4013e-45],\n",
            "          [ 2.7912e-14,  0.0000e+00,  0.0000e+00,  0.0000e+00]]]])\n",
            "rand 2,3 tensor([[0.9309, 0.5975, 0.4307],\n",
            "        [0.1086, 0.5534, 0.8935]])\n",
            "zeros 2,3 tensor([[0., 0., 0.],\n",
            "        [0., 0., 0.]])\n",
            "ones 2,3 tensor([[1., 1., 1.],\n",
            "        [1., 1., 1.]])\n"
          ]
        }
      ],
      "source": [
        "import torch\n",
        "\n",
        "x = torch.empty(1) #scalar\n",
        "print(\"empty 1\", x)\n",
        "x = torch.empty(3) #vector\n",
        "print(\"empty 3\", x)\n",
        "x = torch.empty(2,3) #matrix\n",
        "print(\"empty 2,3\", x)\n",
        "x = torch.empty(2,3,3) #tensor, 3d\n",
        "print(\"empty 2,3,3\", x)\n",
        "x = torch.empty(2,3,3,4) #tensor, 4d\n",
        "print(\"empty 2,3,3,4\", x)\n",
        "\n",
        "x = torch.rand(2,3)\n",
        "print(\"rand 2,3\", x)\n",
        "x = torch.zeros(2,3)\n",
        "print(\"zeros 2,3\", x)\n",
        "x = torch.ones(2,3)\n",
        "print(\"ones 2,3\", x)"
      ]
    },
    {
      "cell_type": "code",
      "source": [
        "print(\"size\" , x.size())\n",
        "print(\"shape\" , x.shape[0])\n",
        "print(x.dtype)\n",
        "x = torch.rand(2,3, dtype=torch.float32)\n",
        "print(x.dtype)"
      ],
      "metadata": {
        "colab": {
          "base_uri": "https://localhost:8080/"
        },
        "collapsed": true,
        "id": "yMeSL4R75L3W",
        "outputId": "a3cf21c6-db11-43c3-d664-5c78178113d7"
      },
      "execution_count": null,
      "outputs": [
        {
          "output_type": "stream",
          "name": "stdout",
          "text": [
            "size torch.Size([2, 3])\n",
            "shape 2\n",
            "torch.float32\n",
            "torch.float32\n"
          ]
        }
      ]
    },
    {
      "cell_type": "code",
      "source": [
        "x = torch.tensor([0,1,4])\n",
        "print(x)\n",
        "x = torch.tensor([0,1,4.2], requires_grad=True)\n",
        "#this will tell pytorch that we need to calculate the gradient of this tensor in future\n",
        "#i.e., this is a variable in our model that we have to optimize\n",
        "print(x)"
      ],
      "metadata": {
        "colab": {
          "base_uri": "https://localhost:8080/"
        },
        "id": "gRefkk1b6pt3",
        "outputId": "2cec2426-c676-4e2f-abdc-848172097656"
      },
      "execution_count": null,
      "outputs": [
        {
          "output_type": "stream",
          "name": "stdout",
          "text": [
            "tensor([0, 1, 4])\n",
            "tensor([0.0000, 1.0000, 4.2000], requires_grad=True)\n"
          ]
        }
      ]
    },
    {
      "cell_type": "code",
      "source": [
        "x = torch.ones(2,2)\n",
        "y = torch.rand(2,2)\n",
        "z = x + y\n",
        "print(x)\n",
        "print(y)\n",
        "print(z)\n",
        "z = x - y\n",
        "print(z)\n",
        "w = torch.rand(2,2)\n",
        "print(w)\n",
        "w.add_(x) #in place addition\n",
        "print(w)\n",
        "z = x * y\n",
        "print(z)\n",
        "z = x / y\n",
        "print(z)"
      ],
      "metadata": {
        "colab": {
          "base_uri": "https://localhost:8080/"
        },
        "id": "3vnIX7PL_Euh",
        "outputId": "9e694f67-7091-4d90-9967-c9314c783d20"
      },
      "execution_count": null,
      "outputs": [
        {
          "output_type": "stream",
          "name": "stdout",
          "text": [
            "tensor([[1., 1.],\n",
            "        [1., 1.]])\n",
            "tensor([[0.6318, 0.6921],\n",
            "        [0.7755, 0.6996]])\n",
            "tensor([[1.6318, 1.6921],\n",
            "        [1.7755, 1.6996]])\n",
            "tensor([[0.3682, 0.3079],\n",
            "        [0.2245, 0.3004]])\n",
            "tensor([[0.8208, 0.5684],\n",
            "        [0.5763, 0.0125]])\n",
            "tensor([[1.8208, 1.5684],\n",
            "        [1.5763, 1.0125]])\n",
            "tensor([[0.6318, 0.6921],\n",
            "        [0.7755, 0.6996]])\n",
            "tensor([[1.5827, 1.4448],\n",
            "        [1.2895, 1.4293]])\n"
          ]
        }
      ]
    },
    {
      "cell_type": "code",
      "source": [
        "x = torch.rand(4,3)\n",
        "print(x)\n",
        "print (\"x[:, 0] : \", x[:, 0]) #all rows, 0th column\n",
        "print (\"x[0, :] : \", x[0, :]) #0th rows, all column\n",
        "print (\"x[1, 1] : \", x[1, 1]) #element at 1,1\n",
        "\n",
        "print (\"x[1, 1].item() : \", x[1, 1].item()) #get the value as a python number"
      ],
      "metadata": {
        "colab": {
          "base_uri": "https://localhost:8080/"
        },
        "id": "OVeNu8PDEhZS",
        "outputId": "0f125930-4bc2-4119-ffd0-6c20e4072923"
      },
      "execution_count": null,
      "outputs": [
        {
          "output_type": "stream",
          "name": "stdout",
          "text": [
            "tensor([[0.9810, 0.7951, 0.5817],\n",
            "        [0.3594, 0.9235, 0.3651],\n",
            "        [0.4545, 0.9434, 0.5145],\n",
            "        [0.8227, 0.7402, 0.8970]])\n",
            "x[:, 0] :  tensor([0.9810, 0.3594, 0.4545, 0.8227])\n",
            "x[0, :] :  tensor([0.9810, 0.7951, 0.5817])\n",
            "x[1, 1] :  tensor(0.9235)\n",
            "x[1, 1].item() :  0.9234743118286133\n"
          ]
        }
      ]
    },
    {
      "cell_type": "code",
      "source": [
        "x = torch.rand(4,4)\n",
        "y = x.view(16)\n",
        "print(x)\n",
        "print(y)\n",
        "y = x.view(-1, 8) #the size -1 is inferred from other dimensions\n",
        "print(y)"
      ],
      "metadata": {
        "colab": {
          "base_uri": "https://localhost:8080/"
        },
        "id": "pSi2l3NnQD6x",
        "outputId": "a902c06b-ddf6-421d-c667-057b39fc9c66"
      },
      "execution_count": null,
      "outputs": [
        {
          "output_type": "stream",
          "name": "stdout",
          "text": [
            "tensor([[0.0405, 0.4061, 0.8360, 0.5800],\n",
            "        [0.0385, 0.9527, 0.2925, 0.1204],\n",
            "        [0.0563, 0.3839, 0.5831, 0.9223],\n",
            "        [0.0023, 0.9584, 0.5333, 0.1493]])\n",
            "tensor([0.0405, 0.4061, 0.8360, 0.5800, 0.0385, 0.9527, 0.2925, 0.1204, 0.0563,\n",
            "        0.3839, 0.5831, 0.9223, 0.0023, 0.9584, 0.5333, 0.1493])\n",
            "tensor([[0.0405, 0.4061, 0.8360, 0.5800, 0.0385, 0.9527, 0.2925, 0.1204],\n",
            "        [0.0563, 0.3839, 0.5831, 0.9223, 0.0023, 0.9584, 0.5333, 0.1493]])\n"
          ]
        }
      ]
    },
    {
      "cell_type": "code",
      "source": [
        "a = torch.ones(4)\n",
        "print(a)\n",
        "\n",
        "b = a.numpy() #converting to numpy array\n",
        "print(b)\n",
        "print(type(b))\n",
        "\n",
        "a.add_(1)\n",
        "print(a)\n",
        "print(b) #changing one changes the other too"
      ],
      "metadata": {
        "colab": {
          "base_uri": "https://localhost:8080/"
        },
        "id": "toyJAu_Z0dNf",
        "outputId": "3b989d67-8469-48af-f667-519c088b98ef"
      },
      "execution_count": null,
      "outputs": [
        {
          "output_type": "stream",
          "name": "stdout",
          "text": [
            "tensor([1., 1., 1., 1.])\n",
            "[1. 1. 1. 1.]\n",
            "<class 'numpy.ndarray'>\n",
            "tensor([2., 2., 2., 2.])\n",
            "[2. 2. 2. 2.]\n"
          ]
        }
      ]
    },
    {
      "cell_type": "code",
      "source": [
        "import numpy as np\n",
        "\n",
        "a = np.ones(4)\n",
        "b = torch.from_numpy(a) #share same memory as a, changing one will also change the other\n",
        "c = torch.tensor(a) #real copy of a, don't affect each other\n",
        "\n",
        "print(a)\n",
        "print(b)\n",
        "print(c)\n",
        "a += 1\n",
        "print(b)\n",
        "print(c)"
      ],
      "metadata": {
        "colab": {
          "base_uri": "https://localhost:8080/"
        },
        "id": "5u7sl9EJ1eOb",
        "outputId": "fb03fb14-f864-40be-d451-1844414b2d83"
      },
      "execution_count": null,
      "outputs": [
        {
          "output_type": "stream",
          "name": "stdout",
          "text": [
            "[1. 1. 1. 1.]\n",
            "tensor([1., 1., 1., 1.], dtype=torch.float64)\n",
            "tensor([1., 1., 1., 1.], dtype=torch.float64)\n",
            "tensor([2., 2., 2., 2.], dtype=torch.float64)\n",
            "tensor([1., 1., 1., 1.], dtype=torch.float64)\n"
          ]
        }
      ]
    },
    {
      "cell_type": "code",
      "source": [
        "x = torch.rand(2,3, requires_grad=True)\n",
        "y = x + 2\n",
        "z = 4 * y * y\n",
        "print(x)\n",
        "print(y)\n",
        "print(y.grad_fn)\n",
        "print(z)\n",
        "z = z.mean()\n",
        "print(z)"
      ],
      "metadata": {
        "colab": {
          "base_uri": "https://localhost:8080/"
        },
        "id": "QS3DOMGS4aOT",
        "outputId": "cd3d83cf-0b0f-4f78-dae8-384e5b04aaff"
      },
      "execution_count": null,
      "outputs": [
        {
          "output_type": "stream",
          "name": "stdout",
          "text": [
            "tensor([[0.2328, 0.4462, 0.0274],\n",
            "        [0.2880, 0.4272, 0.5217]], requires_grad=True)\n",
            "tensor([[2.2328, 2.4462, 2.0274],\n",
            "        [2.2880, 2.4272, 2.5217]], grad_fn=<AddBackward0>)\n",
            "<AddBackward0 object at 0x7defc9948490>\n",
            "tensor([[19.9413, 23.9354, 16.4418],\n",
            "        [20.9401, 23.5658, 25.4356]], grad_fn=<MulBackward0>)\n",
            "tensor(21.7100, grad_fn=<MeanBackward0>)\n"
          ]
        }
      ]
    },
    {
      "cell_type": "code",
      "source": [
        "print(x.grad)\n",
        "z.backward()\n",
        "print(x.grad)\n",
        "print(y.grad)"
      ],
      "metadata": {
        "colab": {
          "base_uri": "https://localhost:8080/"
        },
        "id": "UVzY6OVAAHU9",
        "outputId": "770b3655-261b-4f41-d8d2-286a718fc1c9"
      },
      "execution_count": null,
      "outputs": [
        {
          "output_type": "stream",
          "name": "stdout",
          "text": [
            "None\n",
            "tensor([[2.9770, 3.2616, 2.7032],\n",
            "        [3.0507, 3.2363, 3.3623]])\n",
            "None\n"
          ]
        },
        {
          "output_type": "stream",
          "name": "stderr",
          "text": [
            "/tmp/ipython-input-10-3035338691.py:4: UserWarning: The .grad attribute of a Tensor that is not a leaf Tensor is being accessed. Its .grad attribute won't be populated during autograd.backward(). If you indeed want the .grad field to be populated for a non-leaf Tensor, use .retain_grad() on the non-leaf Tensor. If you access the non-leaf Tensor by mistake, make sure you access the leaf Tensor instead. See github.com/pytorch/pytorch/pull/30531 for more informations. (Triggered internally at /pytorch/build/aten/src/ATen/core/TensorBody.h:489.)\n",
            "  print(y.grad)\n"
          ]
        }
      ]
    },
    {
      "cell_type": "code",
      "source": [
        "import torch\n",
        "\n",
        "X = torch.tensor([1, 2, 3, 4, 5, 6, 7, 8, 9, 10], dtype = torch.float32)\n",
        "Y = torch.tensor([2, 4, 6, 8, 10, 12, 14, 16, 18, 20], dtype = torch.float32)\n",
        "\n",
        "w = torch.tensor(0.0, dtype=torch.float32, requires_grad=True)\n",
        "\n",
        "def forward(x):\n",
        "    return w*x\n",
        "\n",
        "def loss(y, y_pred):\n",
        "    return ((y_pred - y)**2).mean()\n",
        "\n",
        "X_test = 5.0\n",
        "\n",
        "print(f'Prediction before training: f({X_test}) = {forward(X_test).item():.3f}')"
      ],
      "metadata": {
        "colab": {
          "base_uri": "https://localhost:8080/"
        },
        "id": "1gVvVNGKpz3s",
        "outputId": "09b1d48e-9482-48f4-a883-e12efe13ec53"
      },
      "execution_count": null,
      "outputs": [
        {
          "output_type": "stream",
          "name": "stdout",
          "text": [
            "Prediction before training: f(5.0) = 0.000\n"
          ]
        }
      ]
    },
    {
      "cell_type": "code",
      "source": [
        "learning_rate = 0.01\n",
        "n_epochs = 100\n",
        "\n",
        "for epoch in range(n_epochs):\n",
        "    y_pred = forward(X)\n",
        "    l = loss(Y, y_pred)\n",
        "\n",
        "    l.backward()\n",
        "\n",
        "    with torch.no_grad():\n",
        "      w -= w.grad * learning_rate\n",
        "\n",
        "    w.grad.zero_()\n",
        "\n",
        "\n",
        "    print(f'epoch {epoch+1}, w = {w.item():.3f}, loss = {l.item():.3f}')\n",
        "    if l.item() == 0:\n",
        "      break\n",
        "\n",
        "print(f'Prediction after training: f({X_test}) = {forward(X_test).item():.3f}')"
      ],
      "metadata": {
        "colab": {
          "base_uri": "https://localhost:8080/"
        },
        "id": "t5TQd5NRvNsX",
        "outputId": "a51e10e8-6717-4b8d-c7c4-25086d1d73d8"
      },
      "execution_count": null,
      "outputs": [
        {
          "output_type": "stream",
          "name": "stdout",
          "text": [
            "epoch 1, w = 2.000, loss = 0.000\n",
            "Prediction after training: f(5.0) = 10.000\n"
          ]
        }
      ]
    },
    {
      "cell_type": "code",
      "source": [
        "import torch\n",
        "import torch.nn as nn\n",
        "\n",
        "X = torch.tensor([[1], [2], [3], [4], [5], [6], [7], [8]], dtype=torch.float32)\n",
        "Y = torch.tensor([[2], [4], [6], [8], [10], [12], [14], [16]], dtype=torch.float32)\n",
        "\n",
        "n_samples, n_features = X.shape\n",
        "print(f'n_samples = {n_samples}, n_features = {n_features}')\n",
        "\n",
        "X_test = torch.tensor([5], dtype=torch.float32)"
      ],
      "metadata": {
        "id": "tl3io-7_ASmY"
      },
      "execution_count": null,
      "outputs": []
    },
    {
      "cell_type": "code",
      "source": [
        "class LinearRegression(nn.Module):\n",
        "    def __init__(self, input_dim, output_dim):\n",
        "        super(LinearRegression, self).__init__()\n",
        "        self.lin = nn.Linear(input_dim, output_dim)\n",
        "\n",
        "    def forward(self, x):\n",
        "        return self.lin(x)\n",
        "\n",
        "\n",
        "input_size, output_size = n_features, n_features\n",
        "\n",
        "model = LinearRegression(input_size, output_size)\n",
        "\n",
        "print(f'Prediction before training: f({X_test.item()}) = {model(X_test).item():.3f}')\n",
        "\n",
        "\n",
        "learning_rate = 0.01\n",
        "n_epochs = 100\n",
        "\n",
        "loss = nn.MSELoss()\n",
        "optimizer = torch.optim.SGD(model.parameters(), lr=learning_rate)\n",
        "\n",
        "\n",
        "for epoch in range(n_epochs):\n",
        "\n",
        "    y_predicted = model(X)\n",
        "    l = loss(Y, y_predicted)\n",
        "    l.backward()\n",
        "    optimizer.step()\n",
        "    optimizer.zero_grad()\n",
        "\n",
        "    if (epoch+1) % 10 == 0:\n",
        "        w, b = model.parameters()\n",
        "        print('epoch ', epoch+1, ': w = ', w[0][0].item(), ' loss = ', l.item())\n",
        "\n",
        "print(f'Prediction after training: f({X_test.item()}) = {model(X_test).item():.3f}')"
      ],
      "metadata": {
        "id": "pm75cwoRAdKr"
      },
      "execution_count": null,
      "outputs": []
    },
    {
      "cell_type": "code",
      "source": [
        "import torch\n",
        "import torch.nn as nn\n",
        "import torchvision\n",
        "import torchvision.transforms as transforms\n",
        "import matplotlib.pyplot as plt\n",
        "\n",
        "device = torch.device('cuda' if torch.cuda.is_available() else 'cpu')\n",
        "\n",
        "input_size = 784\n",
        "hidden_size = 500\n",
        "num_classes = 10\n",
        "num_epochs = 2\n",
        "batch_size = 100\n",
        "learning_rate = 0.001\n",
        "\n",
        "\n",
        "train_dataset = torchvision.datasets.MNIST(root='./data',\n",
        "                                           train=True,\n",
        "                                           transform=transforms.ToTensor(),\n",
        "                                           download=True)\n",
        "\n",
        "test_dataset = torchvision.datasets.MNIST(root='./data',\n",
        "                                          train=False,\n",
        "                                          transform=transforms.ToTensor())\n",
        "\n",
        "train_loader = torch.utils.data.DataLoader(dataset=train_dataset,\n",
        "                                           batch_size=batch_size,\n",
        "                                           shuffle=True)\n",
        "\n",
        "test_loader = torch.utils.data.DataLoader(dataset=test_dataset,\n",
        "                                          batch_size=batch_size,\n",
        "                                          shuffle=False)\n",
        "\n",
        "examples = iter(test_loader)\n",
        "example_data, example_targets = examples.next()\n",
        "\n",
        "for i in range(6):\n",
        "    plt.subplot(2,3,i+1)\n",
        "    plt.imshow(example_data[i][0], cmap='gray')\n",
        "plt.show()"
      ],
      "metadata": {
        "id": "EMluZGraA9E5"
      },
      "execution_count": null,
      "outputs": []
    },
    {
      "cell_type": "code",
      "source": [],
      "metadata": {
        "id": "KEmAxESLBEAA"
      },
      "execution_count": null,
      "outputs": []
    }
  ]
}